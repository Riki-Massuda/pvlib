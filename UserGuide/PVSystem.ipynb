{
 "cells": [
  {
   "cell_type": "code",
   "execution_count": 3,
   "metadata": {},
   "outputs": [
    {
     "name": "stdout",
     "output_type": "stream",
     "text": [
      "{'pdc0': 5000, 'eta_inv_nom': 0.96}\n"
     ]
    }
   ],
   "source": [
    "import pvlib\n",
    "from pvlib import pvsystem\n",
    "\n",
    "module_parameters = {'pdc0': 5000, 'gamma_pdc': -0.004}\n",
    "\n",
    "inverter_parameters = {'pdc0': 5000, 'eta_inv_nom': 0.96}\n",
    "\n",
    "system = pvsystem.PVSystem(inverter_parameters=inverter_parameters,\n",
    "                           module_parameters=module_parameters)\n",
    "\n",
    "\n",
    "print(system.inverter_parameters)"
   ]
  },
  {
   "cell_type": "code",
   "execution_count": 4,
   "metadata": {},
   "outputs": [
    {
     "name": "stdout",
     "output_type": "stream",
     "text": [
      "4900.0\n"
     ]
    }
   ],
   "source": [
    "pdc = system.pvwatts_dc(g_poa_effective=1000, temp_cell=30)\n",
    "\n",
    "print(pdc)"
   ]
  }
 ],
 "metadata": {
  "kernelspec": {
   "display_name": "Python 3",
   "language": "python",
   "name": "python3"
  },
  "language_info": {
   "codemirror_mode": {
    "name": "ipython",
    "version": 3
   },
   "file_extension": ".py",
   "mimetype": "text/x-python",
   "name": "python",
   "nbconvert_exporter": "python",
   "pygments_lexer": "ipython3",
   "version": "3.11.7"
  }
 },
 "nbformat": 4,
 "nbformat_minor": 2
}
